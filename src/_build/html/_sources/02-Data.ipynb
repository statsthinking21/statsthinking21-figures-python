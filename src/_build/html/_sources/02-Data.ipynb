{
 "cells": [
  {
   "cell_type": "markdown",
   "id": "033ea9f2",
   "metadata": {},
   "source": [
    "# Chapter 2: Working with data"
   ]
  },
  {
   "cell_type": "code",
   "execution_count": 1,
   "id": "aa644108-a978-474c-8434-bba657f79dbf",
   "metadata": {
    "tags": []
   },
   "outputs": [],
   "source": [
    "import rpy2.robjects as robjects\n",
    "\n",
    "import pandas as pd\n",
    "import matplotlib.pyplot as plt\n",
    "import seaborn as sns\n",
    "\n",
    "%load_ext rpy2.ipython"
   ]
  },
  {
   "cell_type": "markdown",
   "id": "a9ae89c7-c51a-4958-925f-05d8cde41903",
   "metadata": {},
   "source": [
    "## Table 2.1"
   ]
  },
  {
   "cell_type": "code",
   "execution_count": 2,
   "id": "a47cf55f-4664-4d14-8ce7-5144604e158b",
   "metadata": {
    "tags": []
   },
   "outputs": [
    {
     "data": {
      "text/html": [
       "<div>\n",
       "<style scoped>\n",
       "    .dataframe tbody tr th:only-of-type {\n",
       "        vertical-align: middle;\n",
       "    }\n",
       "\n",
       "    .dataframe tbody tr th {\n",
       "        vertical-align: top;\n",
       "    }\n",
       "\n",
       "    .dataframe thead th {\n",
       "        text-align: right;\n",
       "    }\n",
       "</style>\n",
       "<table border=\"1\" class=\"dataframe\">\n",
       "  <thead>\n",
       "    <tr style=\"text-align: right;\">\n",
       "      <th></th>\n",
       "      <th>why</th>\n",
       "      <th>nResponses</th>\n",
       "    </tr>\n",
       "  </thead>\n",
       "  <tbody>\n",
       "    <tr>\n",
       "      <th>0</th>\n",
       "      <td>It fulfills a degree plan requirement</td>\n",
       "      <td>105</td>\n",
       "    </tr>\n",
       "    <tr>\n",
       "      <th>1</th>\n",
       "      <td>It fulfills a General Education Breadth Requir...</td>\n",
       "      <td>32</td>\n",
       "    </tr>\n",
       "    <tr>\n",
       "      <th>2</th>\n",
       "      <td>It is not required but I am interested in the ...</td>\n",
       "      <td>11</td>\n",
       "    </tr>\n",
       "    <tr>\n",
       "      <th>3</th>\n",
       "      <td>Other</td>\n",
       "      <td>4</td>\n",
       "    </tr>\n",
       "  </tbody>\n",
       "</table>\n",
       "</div>"
      ],
      "text/plain": [
       "                                                 why  nResponses\n",
       "0              It fulfills a degree plan requirement         105\n",
       "1  It fulfills a General Education Breadth Requir...          32\n",
       "2  It is not required but I am interested in the ...          11\n",
       "3                                              Other           4"
      ]
     },
     "execution_count": 2,
     "metadata": {},
     "output_type": "execute_result"
    }
   ],
   "source": [
    "classData = pd.DataFrame({'why': [\"It fulfills a degree plan requirement\",\n",
    "                           \"It fulfills a General Education Breadth Requirement\",\n",
    "                           \"It is not required but I am interested in the topic\",\n",
    "                           \"Other\"],\n",
    "                         'nResponses': [105,32,11,4]})\n",
    "classData"
   ]
  },
  {
   "cell_type": "markdown",
   "id": "96f3390a-9cbe-4c93-a569-f7ee23bf36ea",
   "metadata": {},
   "source": [
    "## Figure 2.1"
   ]
  },
  {
   "cell_type": "code",
   "execution_count": 4,
   "id": "97816cf5",
   "metadata": {
    "Rmd_chunk_options": "ReliabilityValidity, echo=FALSE,fig.cap=\"A figure demonstrating the distinction between reliability and validity, using shots at a bullseye. Reliability refers to the consistency of location of shots, and validity refers to the accuracy of the shots with respect to the center of the bullseye. \",fig.width=6,fig.height=6,out.height='33%'",
    "jupyter": {
     "output_hidden": false
    },
    "kernel": "R",
    "tags": [
     "report_output"
    ]
   },
   "outputs": [
    {
     "name": "stdout",
     "output_type": "stream",
     "text": [
      "── Attaching packages ─────────────────────────────────────── tidyverse 1.3.2 ──\n",
      "✔ ggplot2 3.4.1     ✔ purrr   1.0.1\n",
      "✔ tibble  3.1.8     ✔ dplyr   1.1.0\n",
      "✔ tidyr   1.3.0     ✔ stringr 1.5.0\n",
      "✔ readr   2.1.4     ✔ forcats 1.0.0\n",
      "── Conflicts ────────────────────────────────────────── tidyverse_conflicts() ──\n",
      "✖ dplyr::filter() masks stats::filter()\n",
      "✖ dplyr::lag()    masks stats::lag()\n"
     ]
    },
    {
     "data": {
      "image/png": "[encoded data removed]"
     },
     "metadata": {},
     "output_type": "display_data"
    }
   ],
   "source": [
    "%%R\n",
    "\n",
    "library(tidyverse)\n",
    "library(cowplot)\n",
    "\n",
    "# Figure inspired by https://commons.wikimedia.org/wiki/File:Reliability_and_validity.svg\n",
    "\n",
    "# from https://stackoverflow.com/questions/6862742/draw-a-circle-with-ggplot2\n",
    "\n",
    "set.seed(12345)\n",
    "gg_circle <- function(r, xc, yc, color=\"black\", fill=NA, ...) {\n",
    "    x <- xc + r*cos(seq(0, pi, length.out=100))\n",
    "    ymax <- yc + r*sin(seq(0, pi, length.out=100))\n",
    "    ymin <- yc + r*sin(seq(0, -pi, length.out=100))\n",
    "    annotate(\"ribbon\", x=x, ymin=ymin, ymax=ymax, color=color, fill=fill, ...)\n",
    "}\n",
    "\n",
    "\n",
    "npoints <- 16\n",
    "rel_mult <- 0.75\n",
    "unrel_mult <- 2.5\n",
    "\n",
    "plotDf <- tibble(\n",
    "  X_RelVal = rnorm(npoints)*rel_mult,\n",
    "  Y_RelVal = rnorm(npoints)*rel_mult,\n",
    "  X_RelInval = rnorm(npoints)*rel_mult+2,\n",
    "  Y_RelInval = rnorm(npoints)*rel_mult+2,\n",
    "  X_UnrelInval = rnorm(npoints)*unrel_mult+2,\n",
    "  Y_UnrelInval = rnorm(npoints)*unrel_mult+2,\n",
    "  X_UnrelVal = rnorm(npoints)*unrel_mult,\n",
    "  Y_UnrelVal = rnorm(npoints)*unrel_mult\n",
    ")\n",
    "\n",
    "pointsize <- 3\n",
    "linesize=2\n",
    "p1=ggplot(plotDf,aes(X_RelVal,Y_RelVal)) +\n",
    "  gg_circle(r=4, xc=0.0, yc=0.0,size=linesize,color='red') +\n",
    "  gg_circle(r=3, xc=0.0, yc=0.0,size=linesize,color='red') +\n",
    "  gg_circle(r=2, xc=0.0, yc=0.0,size=linesize,color='red') +\n",
    "  gg_circle(r=1, xc=0.0, yc=0.0,size=linesize,color='red',fill='red') +\n",
    "  geom_point(size=pointsize) +\n",
    "  xlim(-10,10) + ylim(-10,10) +\n",
    "  theme_void()\n",
    "\n",
    "p2=ggplot(plotDf,aes(X_UnrelVal,Y_UnrelVal)) +\n",
    "  gg_circle(r=4, xc=0.0, yc=0.0,size=linesize,color='red') +\n",
    "  gg_circle(r=3, xc=0.0, yc=0.0,size=linesize,color='red') +\n",
    "  gg_circle(r=2, xc=0.0, yc=0.0,size=linesize,color='red') +\n",
    "  gg_circle(r=1, xc=0.0, yc=0.0,size=linesize,color='red',fill='red') +\n",
    "  geom_point(size=pointsize) +\n",
    "  xlim(-10,10) + ylim(-10,10) +\n",
    "  theme_void()\n",
    "\n",
    "p3=ggplot(plotDf,aes(X_RelInval,Y_RelInval)) +\n",
    "  gg_circle(r=4, xc=0.0, yc=0.0,size=linesize,color='red') +\n",
    "  gg_circle(r=3, xc=0.0, yc=0.0,size=linesize,color='red') +\n",
    "  gg_circle(r=2, xc=0.0, yc=0.0,size=linesize,color='red') +\n",
    "  gg_circle(r=1, xc=0.0, yc=0.0,size=linesize,color='red',fill='red') +\n",
    "  geom_point(size=pointsize) +\n",
    "  xlim(-10,10) + ylim(-10,10) +\n",
    "  theme_void()\n",
    "\n",
    "p4=ggplot(plotDf,aes(X_UnrelInval,Y_UnrelInval)) +\n",
    "  gg_circle(r=4, xc=0.0, yc=0.0,size=linesize,color='red') +\n",
    "  gg_circle(r=3, xc=0.0, yc=0.0,size=linesize,color='red') +\n",
    "  gg_circle(r=2, xc=0.0, yc=0.0,size=linesize,color='red') +\n",
    "  gg_circle(r=1, xc=0.0, yc=0.0,size=linesize,color='red',fill='red') +\n",
    "  geom_point(size=pointsize) +\n",
    "  xlim(-10,10) + ylim(-10,10) +\n",
    "  theme_void()\n",
    "\n",
    "plot_grid(p1,p2,p3,p4,ncol=2,label_size=12,\n",
    "          labels=c('A: Reliable and valid',\n",
    "                   'B: Unreliable but valid',\n",
    "                   'C: Reliable but invalid',\n",
    "                   'D: Unreliable and invalid'))"
   ]
  },
  {
   "cell_type": "markdown",
   "id": "34ceb567-eafc-412b-bb89-e478ecbd4947",
   "metadata": {},
   "source": [
    "## Table 2.2"
   ]
  },
  {
   "cell_type": "code",
   "execution_count": 17,
   "id": "0aae2355-a093-4de5-a1c3-192057f8d48a",
   "metadata": {},
   "outputs": [
    {
     "data": {
      "text/html": [
       "<div>\n",
       "<style scoped>\n",
       "    .dataframe tbody tr th:only-of-type {\n",
       "        vertical-align: middle;\n",
       "    }\n",
       "\n",
       "    .dataframe tbody tr th {\n",
       "        vertical-align: top;\n",
       "    }\n",
       "\n",
       "    .dataframe thead th {\n",
       "        text-align: right;\n",
       "    }\n",
       "</style>\n",
       "<table border=\"1\" class=\"dataframe\">\n",
       "  <thead>\n",
       "    <tr style=\"text-align: right;\">\n",
       "      <th></th>\n",
       "      <th>Equal/not equal</th>\n",
       "      <th>&gt;/&lt;</th>\n",
       "      <th>+/-</th>\n",
       "      <th>Multiply/divide</th>\n",
       "    </tr>\n",
       "  </thead>\n",
       "  <tbody>\n",
       "    <tr>\n",
       "      <th>Nominal</th>\n",
       "      <td>OK</td>\n",
       "      <td></td>\n",
       "      <td></td>\n",
       "      <td></td>\n",
       "    </tr>\n",
       "    <tr>\n",
       "      <th>Ordinal</th>\n",
       "      <td>OK</td>\n",
       "      <td>OK</td>\n",
       "      <td></td>\n",
       "      <td></td>\n",
       "    </tr>\n",
       "    <tr>\n",
       "      <th>Interval</th>\n",
       "      <td>OK</td>\n",
       "      <td>OK</td>\n",
       "      <td>OK</td>\n",
       "      <td></td>\n",
       "    </tr>\n",
       "    <tr>\n",
       "      <th>Ratio</th>\n",
       "      <td>OK</td>\n",
       "      <td>OK</td>\n",
       "      <td>OK</td>\n",
       "      <td>OK</td>\n",
       "    </tr>\n",
       "  </tbody>\n",
       "</table>\n",
       "</div>"
      ],
      "text/plain": [
       "         Equal/not equal >/< +/- Multiply/divide\n",
       "Nominal               OK                        \n",
       "Ordinal               OK  OK                    \n",
       "Interval              OK  OK  OK                \n",
       "Ratio                 OK  OK  OK              OK"
      ]
     },
     "execution_count": 17,
     "metadata": {},
     "output_type": "execute_result"
    }
   ],
   "source": [
    "measTypes = pd.DataFrame({\"Equal/not equal\": ['OK','OK','OK','OK'],\n",
    "                     \">/<\": ['','OK','OK','OK'],\n",
    "                     \"+/-\": ['','','OK','OK'],\n",
    "                     \"Multiply/divide\": ['','','','OK']},\n",
    "                     index=['Nominal','Ordinal','Interval','Ratio'])\n",
    "measTypes"
   ]
  }
 ],
 "metadata": {
  "Rmd_chunk_options": {
   "output": {
    "bookdown::gitbook": {
     "includes": {
      "in_header": "google_analytics.html"
     },
     "lib_dir": "book_assets"
    },
    "html_document": "default",
    "pdf_document": "default"
   }
  },
  "kernelspec": {
   "display_name": "Python 3 (ipykernel)",
   "language": "python",
   "name": "python3"
  },
  "language_info": {
   "codemirror_mode": {
    "name": "ipython",
    "version": 3
   },
   "file_extension": ".py",
   "mimetype": "text/x-python",
   "name": "python",
   "nbconvert_exporter": "python",
   "pygments_lexer": "ipython3",
   "version": "3.9.15"
  }
 },
 "nbformat": 4,
 "nbformat_minor": 5
}
