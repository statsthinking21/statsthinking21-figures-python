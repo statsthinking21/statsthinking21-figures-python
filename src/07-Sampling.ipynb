{
 "cells": [
  {
   "cell_type": "markdown",
   "id": "c0e86df8",
   "metadata": {},
   "source": [
    "# Chapter 7: Sampling\n"
   ]
  },
  {
   "cell_type": "code",
   "execution_count": 1,
   "id": "aa859587-e549-4925-854b-13ddecf26421",
   "metadata": {},
   "outputs": [
    {
     "name": "stderr",
     "output_type": "stream",
     "text": [
      "<frozen importlib._bootstrap>:228: RuntimeWarning: scipy._lib.messagestream.MessageStream size changed, may indicate binary incompatibility. Expected 56 from C header, got 64 from PyObject\n"
     ]
    }
   ],
   "source": [
    "import pandas as pd\n",
    "import sidetable\n",
    "import numpy as np\n",
    "import matplotlib.pyplot as plt\n",
    "import seaborn as sns\n",
    "from scipy.stats import norm\n",
    "\n",
    "import rpy2.robjects as ro\n",
    "from rpy2.robjects.packages import importr\n",
    "from rpy2.robjects import pandas2ri\n",
    "pandas2ri.activate()\n",
    "from rpy2.robjects.conversion import localconverter\n",
    "# import NHANES package\n",
    "base = importr('NHANES')\n",
    "\n",
    "with localconverter(ro.default_converter + pandas2ri.converter):\n",
    "  NHANES = ro.conversion.rpy2py(ro.r['NHANES'])\n",
    "\n",
    " \n",
    "NHANES = NHANES.drop_duplicates(subset='ID')\n",
    "NHANES_adult = NHANES.dropna(subset=['Height']).query('Age > 17')\n",
    "\n",
    "rng = np.random.RandomState(12345)\n"
   ]
  },
  {
   "cell_type": "markdown",
   "id": "895bf09a",
   "metadata": {},
   "source": [
    "## Table 7.1"
   ]
  },
  {
   "cell_type": "code",
   "execution_count": 2,
   "id": "0599d110-8c0a-43c5-a815-077126d24488",
   "metadata": {},
   "outputs": [
    {
     "data": {
      "text/html": [
       "<div>\n",
       "<style scoped>\n",
       "    .dataframe tbody tr th:only-of-type {\n",
       "        vertical-align: middle;\n",
       "    }\n",
       "\n",
       "    .dataframe tbody tr th {\n",
       "        vertical-align: top;\n",
       "    }\n",
       "\n",
       "    .dataframe thead th {\n",
       "        text-align: right;\n",
       "    }\n",
       "</style>\n",
       "<table border=\"1\" class=\"dataframe\">\n",
       "  <thead>\n",
       "    <tr style=\"text-align: right;\">\n",
       "      <th></th>\n",
       "      <th>mean</th>\n",
       "      <th>sd</th>\n",
       "    </tr>\n",
       "  </thead>\n",
       "  <tbody>\n",
       "    <tr>\n",
       "      <th>0</th>\n",
       "      <td>166.790</td>\n",
       "      <td>9.942985</td>\n",
       "    </tr>\n",
       "    <tr>\n",
       "      <th>1</th>\n",
       "      <td>168.344</td>\n",
       "      <td>9.248589</td>\n",
       "    </tr>\n",
       "    <tr>\n",
       "      <th>2</th>\n",
       "      <td>170.096</td>\n",
       "      <td>9.579143</td>\n",
       "    </tr>\n",
       "    <tr>\n",
       "      <th>3</th>\n",
       "      <td>169.114</td>\n",
       "      <td>8.705499</td>\n",
       "    </tr>\n",
       "    <tr>\n",
       "      <th>4</th>\n",
       "      <td>169.002</td>\n",
       "      <td>10.450593</td>\n",
       "    </tr>\n",
       "  </tbody>\n",
       "</table>\n",
       "</div>"
      ],
      "text/plain": [
       "      mean         sd\n",
       "0  166.790   9.942985\n",
       "1  168.344   9.248589\n",
       "2  170.096   9.579143\n",
       "3  169.114   8.705499\n",
       "4  169.002  10.450593"
      ]
     },
     "execution_count": 2,
     "metadata": {},
     "output_type": "execute_result"
    }
   ],
   "source": [
    "NHANES_height = NHANES_adult.dropna(subset=['Height'])\n",
    "\n",
    "sample_stats = []\n",
    "sampsize = 50\n",
    "\n",
    "for i in range(5):\n",
    "    samp = NHANES_adult.sample(sampsize, random_state=rng)['Height']\n",
    "    sample_stats.append([samp.mean(), samp.std()])\n",
    "\n",
    "sample_stats_df = pd.DataFrame(sample_stats, columns=['mean', 'sd'])\n",
    "\n",
    "sample_stats_df"
   ]
  },
  {
   "cell_type": "markdown",
   "id": "fa7537ac-7ad6-4ad0-8be2-025571c20d4e",
   "metadata": {},
   "source": [
    "## Figure 7.1\n"
   ]
  },
  {
   "cell_type": "code",
   "execution_count": 3,
   "id": "ec74ea2b-e473-4f7f-bf9a-54dc70945f94",
   "metadata": {},
   "outputs": [],
   "source": [
    "sampSize = 50 # size of sample\n",
    "nsamps = 5000 # number of samples we will take\n",
    "\n",
    "sampMeans = []\n",
    "for i in range(nsamps):\n",
    "    samp = NHANES_adult.sample(sampsize, random_state=rng)['Height']\n",
    "    sampMeans.append([samp.mean()])\n",
    "\n",
    "sampMeansDf = pd.DataFrame(sampMeans, columns=['sampleMean'])"
   ]
  },
  {
   "cell_type": "code",
   "execution_count": 4,
   "id": "d823f2d6-bff9-4d55-965e-e5ce26cd21d9",
   "metadata": {},
   "outputs": [
    {
     "data": {
      "text/plain": [
       "Text(170.3497077244259, 0.3, 'Population mean')"
      ]
     },
     "execution_count": 4,
     "metadata": {},
     "output_type": "execute_result"
    },
    {
     "data": {
      "image/png": "[encoded data removed]",
      "text/plain": [
       "<Figure size 432x288 with 1 Axes>"
      ]
     },
     "metadata": {
      "needs_background": "light"
     },
     "output_type": "display_data"
    }
   ],
   "source": [
    "sns.histplot(NHANES_adult.Height, color='gray', alpha=0.1, stat='density', bins=100)\n",
    "sns.histplot(sampMeansDf.sampleMean, stat='density', bins=100)\n",
    "plt.plot([NHANES_adult.Height.mean(), NHANES_adult.Height.mean()], [0, 0.3], color='black')\n",
    "plt.annotate('Population mean', [NHANES_adult.Height.mean() + 2, 0.3])"
   ]
  },
  {
   "cell_type": "markdown",
   "id": "ab1bd251",
   "metadata": {},
   "source": [
    "## Figure 7.2"
   ]
  },
  {
   "cell_type": "code",
   "execution_count": 21,
   "id": "2e7b2c41-8e60-40bf-bf10-fb3af6920032",
   "metadata": {},
   "outputs": [
    {
     "data": {
      "text/plain": [
       "[<matplotlib.lines.Line2D at 0x2a4208ee0>]"
      ]
     },
     "execution_count": 21,
     "metadata": {},
     "output_type": "execute_result"
    },
    {
     "data": {
      "image/png": "[encoded data removed]",
      "text/plain": [
       "<Figure size 864x432 with 2 Axes>"
      ]
     },
     "metadata": {
      "needs_background": "light"
     },
     "output_type": "display_data"
    }
   ],
   "source": [
    "NHANES_clean = NHANES_adult.query('AlcoholYear >= 0').dropna(subset=['AlcoholYear'])\n",
    "\n",
    "fig, ax = plt.subplots(1, 2, figsize=(12,6))\n",
    "\n",
    "sns.histplot(NHANES_clean.AlcoholYear, ax=ax[0])\n",
    "\n",
    "def get_sampling_dist(sampSize=50, nsamps=2500):\n",
    "    sampMeans = []\n",
    "    for i in range(nsamps):\n",
    "        samp = NHANES_clean.sample(sampsize, random_state=rng)['AlcoholYear']\n",
    "        sampMeans.append([samp.mean()])\n",
    "    return(pd.DataFrame(sampMeans, columns=['sampleMean']))\n",
    "\n",
    "sampDist = get_sampling_dist()\n",
    "sns.histplot(sampDist.sampleMean, bins=100, stat='density', element='poly', fill=None)\n",
    "x = np.arange(sampDist.sampleMean.min(), sampDist.sampleMean.max(), 0.1)\n",
    "y = norm.pdf(x, loc=sampDist.sampleMean.mean(), scale=sampDist.sampleMean.std())\n",
    "plt.plot(x,y, color='red')"
   ]
  }
 ],
 "metadata": {
  "Rmd_chunk_options": {
   "output": {
    "bookdown::gitbook": {
     "includes": {
      "in_header": "google_analytics.html"
     },
     "lib_dir": "book_assets"
    },
    "html_document": "default",
    "pdf_document": "default"
   }
  },
  "kernelspec": {
   "display_name": "Python 3 (ipykernel)",
   "language": "python",
   "name": "python3"
  },
  "language_info": {
   "codemirror_mode": {
    "name": "ipython",
    "version": 3
   },
   "file_extension": ".py",
   "mimetype": "text/x-python",
   "name": "python",
   "nbconvert_exporter": "python",
   "pygments_lexer": "ipython3",
   "version": "3.9.15"
  },
  "sos": {
   "kernels": [
    [
     "SoS",
     "sos",
     "",
     ""
    ],
    [
     "R",
     "ir",
     "",
     ""
    ],
    [
     "Markdown",
     "markdown",
     "",
     ""
    ]
   ]
  }
 },
 "nbformat": 4,
 "nbformat_minor": 5
}
